{
 "cells": [
  {
   "cell_type": "code",
   "execution_count": 9,
   "metadata": {},
   "outputs": [
    {
     "name": "stdout",
     "output_type": "stream",
     "text": [
      "values1的平均數:7\n",
      "values1的標準差:5.9442\n",
      "===================\n",
      "values2的平均數:7\n",
      "values2的標準差:1.8257\n"
     ]
    }
   ],
   "source": [
    "import statistics\n",
    "values1 = [0, 5, 9, 14]\n",
    "values2 = [5, 6 ,8 ,9 ]\n",
    "\n",
    "average1 = statistics.mean(values1)\n",
    "average2 = statistics.mean(values2)\n",
    "std1 = statistics.stdev(values1)\n",
    "std2 = statistics.stdev(values2)\n",
    "\n",
    "print(f\"values1的平均數:{average1}\")\n",
    "print(f\"values1的標準差:{round(std1,ndigits=4)}\")\n",
    "print(\"===================\")\n",
    "print(f\"values2的平均數:{average2}\")\n",
    "print(f\"values2的標準差:{round(std2,ndigits=4)}\")"
   ]
  },
  {
   "cell_type": "code",
   "execution_count": 12,
   "metadata": {},
   "outputs": [
    {
     "name": "stdout",
     "output_type": "stream",
     "text": [
      "15\n"
     ]
    }
   ],
   "source": [
    "n=10\n",
    "n=n+5\n",
    "print(n)"
   ]
  },
  {
   "cell_type": "code",
   "execution_count": 14,
   "metadata": {},
   "outputs": [
    {
     "name": "stdout",
     "output_type": "stream",
     "text": [
      "50\n"
     ]
    }
   ],
   "source": [
    "n = 10\n",
    "n *= 5 #複合指定運算子\n",
    "print( n )"
   ]
  },
  {
   "cell_type": "code",
   "execution_count": 19,
   "metadata": {},
   "outputs": [
    {
     "name": "stdout",
     "output_type": "stream",
     "text": [
      "value1 + value2+ value3 = total\n",
      "2.55151+5.12646+2134.255=2141.93\n"
     ]
    }
   ],
   "source": [
    "#請以{複合指定運算子}設計程式，請使用者輸入任意三個數，程式會顯示三數相加的總和\n",
    "total = 0\n",
    "value1 = float(input(\"請輸入第一個數\"))\n",
    "total += value1\n",
    "\n",
    "value2 = float(input(\"請輸入第二個數\"))\n",
    "total += value2\n",
    "\n",
    "value3 = float(input(\"請輸入第三個數\"))\n",
    "total += value3\n",
    "\n",
    "print( \"value1 + value2+ value3 = total\") #字串\n",
    "print(f\"{value1}+{value2}+{value3}={round(total,ndigits=2)}\") #字串整合變數成為新的字串 'f' 字串差補\n",
    "\n"
   ]
  }
 ],
 "metadata": {
  "kernelspec": {
   "display_name": "Python 3",
   "language": "python",
   "name": "python3"
  },
  "language_info": {
   "codemirror_mode": {
    "name": "ipython",
    "version": 3
   },
   "file_extension": ".py",
   "mimetype": "text/x-python",
   "name": "python",
   "nbconvert_exporter": "python",
   "pygments_lexer": "ipython3",
   "version": "3.10.14"
  }
 },
 "nbformat": 4,
 "nbformat_minor": 2
}
