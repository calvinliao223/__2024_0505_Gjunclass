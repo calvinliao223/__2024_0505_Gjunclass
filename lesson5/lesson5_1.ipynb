{
 "cells": [
  {
   "cell_type": "code",
   "execution_count": 1,
   "metadata": {},
   "outputs": [
    {
     "ename": "ValueError",
     "evalue": "could not convert string to float: ''",
     "output_type": "error",
     "traceback": [
      "\u001b[0;31m---------------------------------------------------------------------------\u001b[0m",
      "\u001b[0;31mValueError\u001b[0m                                Traceback (most recent call last)",
      "Cell \u001b[0;32mIn[1], line 3\u001b[0m\n\u001b[1;32m      1\u001b[0m name \u001b[38;5;241m=\u001b[39m \u001b[38;5;28minput\u001b[39m(\u001b[38;5;124m\"\u001b[39m\u001b[38;5;124m請輸入您的姓名\u001b[39m\u001b[38;5;124m\"\u001b[39m)\n\u001b[0;32m----> 3\u001b[0m height \u001b[38;5;241m=\u001b[39m \u001b[38;5;28;43mfloat\u001b[39;49m\u001b[43m(\u001b[49m\u001b[43m \u001b[49m\u001b[38;5;28;43minput\u001b[39;49m\u001b[43m(\u001b[49m\u001b[38;5;124;43m'\u001b[39;49m\u001b[38;5;124;43m請輸入您的身高(cm)\u001b[39;49m\u001b[38;5;124;43m'\u001b[39;49m\u001b[43m)\u001b[49m\u001b[43m \u001b[49m\u001b[43m)\u001b[49m\n\u001b[1;32m      5\u001b[0m weight \u001b[38;5;241m=\u001b[39m \u001b[38;5;28mfloat\u001b[39m( \u001b[38;5;28minput\u001b[39m(\u001b[38;5;124m'\u001b[39m\u001b[38;5;124m請輸入您的體重(kg)\u001b[39m\u001b[38;5;124m'\u001b[39m) )\n\u001b[1;32m      7\u001b[0m BMI \u001b[38;5;241m=\u001b[39m \u001b[38;5;28mfloat\u001b[39m( weight \u001b[38;5;241m/\u001b[39m (height\u001b[38;5;241m/\u001b[39m\u001b[38;5;241m100\u001b[39m)\u001b[38;5;241m*\u001b[39m\u001b[38;5;241m*\u001b[39m \u001b[38;5;241m2\u001b[39m )\n",
      "\u001b[0;31mValueError\u001b[0m: could not convert string to float: ''"
     ]
    }
   ],
   "source": [
    "name = input(\"請輸入您的姓名\")\n",
    "\n",
    "height = float( input('請輸入您的身高(cm)') )\n",
    "\n",
    "weight = float( input('請輸入您的體重(kg)') )\n",
    "\n",
    "BMI = float( weight / (height/100)** 2 )\n",
    "\n",
    "print( f\"您的姓名為:{name}\" )\n",
    "print( f\"您的BMI值為:{round( BMI , ndigits = 1 )}\" )"
   ]
  },
  {
   "cell_type": "code",
   "execution_count": 3,
   "metadata": {},
   "outputs": [
    {
     "name": "stdout",
     "output_type": "stream",
     "text": [
      "學生分數是:300\n"
     ]
    }
   ],
   "source": [
    "#學生的總分為300分\n",
    "#有些學生可以加分5%\n",
    "#如果超過300分，以300分為準\n",
    "\n",
    "scores = int( input('請輸入學生分數(最高300分)') )\n",
    "is_add = input('學生是否符合加分條件?(y,n)')\n",
    "if is_add == 'y':\n",
    "    scores *= 1.05\n",
    "    if scores > 300:\n",
    "        scores = 300\n",
    "\n",
    "print(f'學生分數是:{round(scores)}')\n"
   ]
  },
  {
   "cell_type": "code",
   "execution_count": 6,
   "metadata": {},
   "outputs": [
    {
     "name": "stdout",
     "output_type": "stream",
     "text": [
      "格式錯誤\n",
      "應用程式結束\n"
     ]
    }
   ],
   "source": [
    "try:\n",
    "    money = int(input('請輸入金額:'))\n",
    "    print( money )\n",
    "except ValueError:\n",
    "    print('格式錯誤')\n",
    "except Exception:\n",
    "    print('未知的錯誤')\n",
    "print('應用程式結束')"
   ]
  },
  {
   "cell_type": "code",
   "execution_count": 14,
   "metadata": {},
   "outputs": [
    {
     "name": "stdout",
     "output_type": "stream",
     "text": [
      "格式錯誤\n",
      "程式結束\n"
     ]
    }
   ],
   "source": [
    "#學生的總分為300分\n",
    "#有些學生可以加分5%\n",
    "#如果超過300分，以300分為準\n",
    "#raise Exception( )\n",
    "try:\n",
    "    scores = int( input('請輸入學生分數(最高300分)') )\n",
    "    if scores > 300 or scores < 0:\n",
    "        raise Exception(\"輸入不再範圍內\")\n",
    "    is_add = int(input('學生是否符合加分條件(y,n)'))       \n",
    "    if is_add == 'y':\n",
    "        scores *= 1.05\n",
    "        if scores > 300:\n",
    "            scores = 300\n",
    "\n",
    "    print(f'學生分數是:{round(scores,ndigits=0)}')\n",
    "            \n",
    "   \n",
    "except ValueError:\n",
    "    print('格式錯誤')\n",
    "except Exception as error:\n",
    "    print(error)\n",
    "\n",
    "print(\"程式結束\")"
   ]
  },
  {
   "cell_type": "code",
   "execution_count": 15,
   "metadata": {},
   "outputs": [
    {
     "name": "stdout",
     "output_type": "stream",
     "text": [
      "學生分數是:262\n",
      "程式結束\n"
     ]
    }
   ],
   "source": [
    "while True:\n",
    "    try:\n",
    "        scores = int(input('請輸入學生分數(最高300分): '))\n",
    "        if 0 <= scores <= 300:\n",
    "            is_add = input('是否增加5%分數？(輸入 y/n): ')\n",
    "            if is_add == 'y':\n",
    "                scores *= 1.05\n",
    "                if scores > 300:\n",
    "                    scores = 300\n",
    "\n",
    "            print(f'學生分數是:{round(scores)}')\n",
    "            break\n",
    "        else:\n",
    "            print('輸入的範圍不正確')\n",
    "    except ValueError:\n",
    "        print('格式錯誤')\n",
    "\n",
    "print(\"程式結束\")\n"
   ]
  },
  {
   "cell_type": "code",
   "execution_count": 16,
   "metadata": {},
   "outputs": [],
   "source": [
    "import pyinputplus as pyip"
   ]
  }
 ],
 "metadata": {
  "kernelspec": {
   "display_name": "Python 3",
   "language": "python",
   "name": "python3"
  },
  "language_info": {
   "codemirror_mode": {
    "name": "ipython",
    "version": 3
   },
   "file_extension": ".py",
   "mimetype": "text/x-python",
   "name": "python",
   "nbconvert_exporter": "python",
   "pygments_lexer": "ipython3",
   "version": "3.10.14"
  }
 },
 "nbformat": 4,
 "nbformat_minor": 2
}
