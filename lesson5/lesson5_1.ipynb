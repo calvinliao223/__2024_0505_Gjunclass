{
 "cells": [
  {
   "cell_type": "code",
   "execution_count": null,
   "metadata": {},
   "outputs": [],
   "source": [
    "name = input(\"請輸入您的姓名\")\n",
    "\n",
    "height = float( input('請輸入您的身高(cm)') )\n",
    "\n",
    "weight = float( input('請輸入您的體重(kg)') )\n",
    "\n",
    "BMI = float( weight / (height/100)** 2 )\n",
    "\n",
    "print( f\"您的姓名為:{name}\" )\n",
    "print( f\"您的BMI值為:{round( BMI , ndigits = 1 )}\" )"
   ]
  }
 ],
 "metadata": {
  "kernelspec": {
   "display_name": "Python 3",
   "language": "python",
   "name": "python3"
  },
  "language_info": {
   "name": "python",
   "version": "3.10.14"
  }
 },
 "nbformat": 4,
 "nbformat_minor": 2
}
